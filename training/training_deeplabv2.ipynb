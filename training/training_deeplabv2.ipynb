{
  "cells": [
    {
      "cell_type": "code",
      "execution_count": null,
      "metadata": {
        "colab": {
          "base_uri": "https://localhost:8080/"
        },
        "id": "eBtXNh76_C51",
        "outputId": "253208ed-a375-46b5-983e-7cb7da00f74a"
      },
      "outputs": [
        {
          "name": "stdout",
          "output_type": "stream",
          "text": [
            "Cloning into 'MLDL2024_semantic_segmentation'...\n",
            "remote: Enumerating objects: 155, done.\u001b[K\n",
            "remote: Counting objects: 100% (41/41), done.\u001b[K\n",
            "remote: Compressing objects: 100% (40/40), done.\u001b[K\n",
            "remote: Total 155 (delta 18), reused 1 (delta 1), pack-reused 114\u001b[K\n",
            "Receiving objects: 100% (155/155), 122.48 KiB | 2.40 MiB/s, done.\n",
            "Resolving deltas: 100% (78/78), done.\n"
          ]
        }
      ],
      "source": [
        "!git clone https://github.com/federico2879/MLDL2024_semantic_segmentation.git"
      ]
    },
    {
      "cell_type": "code",
      "execution_count": null,
      "metadata": {},
      "outputs": [],
      "source": [
        "import torch\n",
        "from torch import nn\n",
        "import torchvision\n",
        "import torchvision.transforms as transforms\n",
        "from torch.utils.data import DataLoader\n",
        "#from MLDL2024_semantic_segmentation.datasets.importDataset import Download\n",
        "#from MLDL2024_semantic_segmentation.datasets.importDataset import Modified_CityScapes\n",
        "from MLDL2024_semantic_segmentation.datasets.cityscapes import CityScapes\n",
        "from MLDL2024_semantic_segmentation.models.deeplabv2.deeplabv2 import *\n",
        "from MLDL2024_semantic_segmentation.train import * \n",
        "from MLDL2024_semantic_segmentation.models.metrics import *"
      ]
    },
    {
      "cell_type": "code",
      "execution_count": null,
      "metadata": {
        "colab": {
          "base_uri": "https://localhost:8080/",
          "height": 35
        },
        "id": "FbNG1Dxxb6jr",
        "outputId": "69744f0a-827b-4b69-af3e-ea38d6b7c9af"
      },
      "outputs": [],
      "source": [
        "# Setup device agnostic code\n",
        "device = \"cuda\" if torch.cuda.is_available() else \"cpu\"\n",
        "device"
      ]
    },
    {
      "cell_type": "code",
      "execution_count": null,
      "metadata": {},
      "outputs": [],
      "source": [
        "# Setup fixed parameters\n",
        "num_epochs = 5\n",
        "num_classes = 19"
      ]
    },
    {
      "cell_type": "code",
      "execution_count": null,
      "metadata": {
        "id": "1jqIHEeBfvoe"
      },
      "outputs": [],
      "source": [
        "# Transformations\n",
        "transform_image = transforms.Compose([\n",
        "    transforms.Resize((1024, 512)),\n",
        "    transforms.ToTensor(),\n",
        "    transforms.Normalize(mean=[0.485, 0.456, 0.406],\n",
        "                         std=[0.229, 0.224, 0.225])\n",
        "])\n",
        "transform_target = transforms.Compose([\n",
        "    transforms.Resize((1024, 512)),\n",
        "    transforms.ToTensor(),\n",
        "])\n",
        "\n",
        "# Create dataloader\n",
        "dataset_train = CityScapes('/kaggle/input/cityscapes/Cityscapes/Cityspaces', split = 'train', transform = transform_image, label_transform = transform_target)\n",
        "dataloader_train = DataLoader(dataset_train, batch_size=16, shuffle=True)\n",
        "\n",
        "dataset_val = CityScapes('/kaggle/input/cityscapes/Cityscapes/Cityspaces', split = 'val', transform = transform_image, label_transform = transform_target)\n",
        "dataloader_val = DataLoader(dataset_train, batch_size=16, shuffle=False)"
      ]
    },
    {
      "cell_type": "code",
      "execution_count": null,
      "metadata": {
        "colab": {
          "base_uri": "https://localhost:8080/"
        },
        "id": "IMoqWnEWfemL",
        "outputId": "52d15766-f182-424b-e53d-e208797531e5"
      },
      "outputs": [],
      "source": [
        "\n",
        "# Pretrained\n",
        "pretrained = torchvision.models.resnet101(pretrained=True).to(device)\n",
        "torch.save(pretrained.state_dict(), \"DeepLab_resnet_pretrained_imagenet.pth\")\n",
        "\n",
        "# Inizialization of the model\n",
        "model = get_deeplab_v2().to(device)\n",
        "\n",
        "#Putting on the 2 gpus\n",
        "model = torch.nn.DataParallel(model, device_ids = [0,1]).to(device)\n",
        "\n",
        "\n"
      ]
    },
    {
      "cell_type": "code",
      "execution_count": null,
      "metadata": {
        "id": "H3foEWjxe0_Z"
      },
      "outputs": [],
      "source": [
        "# Define loss and optimizer\n",
        "loss_fn = nn.CrossEntropyLoss()\n",
        "optimizer = torch.optim.Adam(model.parameters(), lr=1e-3)"
      ]
    },
    {
      "cell_type": "code",
      "execution_count": null,
      "metadata": {
        "colab": {
          "base_uri": "https://localhost:8080/",
          "height": 408
        },
        "id": "QRfKcxIdebta",
        "outputId": "3f5032e7-fbf6-4375-bad9-a1f7bd618cd1"
      },
      "outputs": [],
      "source": [
        "# Set the random seeds\n",
        "torch.manual_seed(42)\n",
        "torch.cuda.manual_seed(42)\n",
        "\n",
        "mIOU = 0\n",
        "\n",
        "for epoch in range(num_epochs):\n",
        "    train(model, optimizer, dataloader_train, loss_fn)\n",
        "    mIOU = test(model, dataloader_val, loss_fn)\n",
        "    print(f\"epoch: {epoch}, Validation IOU: {mIOU:.2f}\")    \n",
        "\n",
        "    '''\n",
        "    torch.save({\n",
        "        'epoch': epoch + 1,\n",
        "        'state_dict': model.state_dict(),\n",
        "        'optimizer': optimizer.state_dict(),\n",
        "        'val_IOU': val_IOU\n",
        "    },\"checkpoint.pth.tar\")\n",
        "    '''\n",
        "print(f\"Final mIOU: {mIOU:.2f}\")    \n",
        "\n",
        "flops = Flops(model, 1024, 512)\n",
        "\n",
        "print(f\"Number of flops?: {flops}\")\n",
        "\n",
        "latency = Latency_FPS(model, 1024, 512)\n",
        "\n",
        "print(f\"Latency: {latency}\")\n",
        "\n",
        "print(f\"number of parameters: {model.count_params()}\")"
      ]
    }
  ],
  "metadata": {
    "accelerator": "GPU",
    "colab": {
      "gpuType": "T4",
      "provenance": []
    },
    "kernelspec": {
      "display_name": "Python 3",
      "name": "python3"
    },
    "language_info": {
      "name": "python"
    }
  },
  "nbformat": 4,
  "nbformat_minor": 0
}
