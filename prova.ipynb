{
  "nbformat": 4,
  "nbformat_minor": 0,
  "metadata": {
    "colab": {
      "provenance": [],
      "authorship_tag": "ABX9TyMYZcmLt4bHN/V1jRuP+vT8",
      "include_colab_link": true
    },
    "kernelspec": {
      "name": "python3",
      "display_name": "Python 3"
    },
    "language_info": {
      "name": "python"
    }
  },
  "cells": [
    {
      "cell_type": "markdown",
      "metadata": {
        "id": "view-in-github",
        "colab_type": "text"
      },
      "source": [
        "<a href=\"https://colab.research.google.com/github/federico2879/MLDL2024_semantic_segmentation/blob/master/prova.ipynb\" target=\"_parent\"><img src=\"https://colab.research.google.com/assets/colab-badge.svg\" alt=\"Open In Colab\"/></a>"
      ]
    },
    {
      "cell_type": "markdown",
      "source": [
        "**PROVA PUSH GITHUB**"
      ],
      "metadata": {
        "id": "R_XRyp3pBRjn"
      }
    },
    {
      "cell_type": "code",
      "source": [
        "a = 3\n",
        "b = 4\n",
        "print(f'the result is: {a+b}')"
      ],
      "metadata": {
        "colab": {
          "base_uri": "https://localhost:8080/"
        },
        "id": "JykPxKY1Bahc",
        "outputId": "c9bca981-7c49-4295-8d80-4a02a80b60cf"
      },
      "execution_count": 2,
      "outputs": [
        {
          "output_type": "stream",
          "name": "stdout",
          "text": [
            "the result is: 7\n"
          ]
        }
      ]
    },
    {
      "cell_type": "markdown",
      "source": [
        "**PROVA COMMIT**"
      ],
      "metadata": {
        "id": "yJ40cDozCC0F"
      }
    },
    {
      "cell_type": "code",
      "source": [
        "c = 12\n",
        "print(f'the result is: {a+b+c}')"
      ],
      "metadata": {
        "id": "VukUh3eoCGJB",
        "outputId": "4481e587-c527-4b94-e356-d35335a23011",
        "colab": {
          "base_uri": "https://localhost:8080/"
        }
      },
      "execution_count": 3,
      "outputs": [
        {
          "output_type": "stream",
          "name": "stdout",
          "text": [
            "the result is: 19\n"
          ]
        }
      ]
    }
  ]
}