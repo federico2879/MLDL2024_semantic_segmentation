{
  "nbformat": 4,
  "nbformat_minor": 0,
  "metadata": {
    "colab": {
      "provenance": [],
      "authorship_tag": "ABX9TyP7f0UdTLCKC5e7nU/LkjKw"
    },
    "kernelspec": {
      "name": "python3",
      "display_name": "Python 3"
    },
    "language_info": {
      "name": "python"
    }
  },
  "cells": [
    {
      "cell_type": "code",
      "execution_count": null,
      "metadata": {
        "id": "eBtXNh76_C51"
      },
      "outputs": [],
      "source": [
        "!git clone https://github.com/federico2879/MLDL2024_semantic_segmentation.git\n",
        "\n",
        "from MLDL2024_semantic_segmentation.datasets.importDataset import Download\n",
        "from MLDL2024_semantic_segmentation.datasets.importDataset import Modified_CityScapes\n",
        "import torch\n",
        "from torch.utils.data import DataLoader\n",
        "from MLDL2024_semantic_segmentation.datasets.cityscapes import CityScapes\n",
        "import torchvision.transforms as transforms\n"
      ]
    },
    {
      "cell_type": "code",
      "source": [
        "# Setup device agnostic code\n",
        "device = \"cuda\" if torch.cuda.is_available() else \"cpu\"\n",
        "device"
      ],
      "metadata": {
        "id": "FbNG1Dxxb6jr"
      },
      "execution_count": null,
      "outputs": []
    },
    {
      "cell_type": "code",
      "source": [
        "Download('drive/MyDrive/Cityscapes.zip', '')\n",
        "Modified_CityScapes('Cityscapes/Cityspaces')"
      ],
      "metadata": {
        "id": "IMoqWnEWfemL"
      },
      "execution_count": null,
      "outputs": []
    },
    {
      "cell_type": "code",
      "source": [
        "transform_image = transforms.Compose([\n",
        "    transforms.Resize((1024, 512)),\n",
        "    transforms.ToTensor(),\n",
        "    transforms.Normalize(mean=[0.485, 0.456, 0.406],\n",
        "                         std=[0.229, 0.224, 0.225])\n",
        "])\n",
        "\n",
        "transform_target = transforms.Compose([\n",
        "    transforms.Resize((1024, 512)),  # Ridimensiona le maschere a 256x256\n",
        "    transforms.ToTensor(),           # Converti in tensori\n",
        "])\n",
        "\n",
        "\n",
        "dataset_train = CityScapes('Cityscapes/Cityspaces', transform = transform_image, label_transform = transform_target)\n",
        "dataloader_train = DataLoader(dataset_train, batch_size=64, shuffle=True)"
      ],
      "metadata": {
        "id": "RvaKZ674agU0"
      },
      "execution_count": null,
      "outputs": []
    },
    {
      "cell_type": "code",
      "source": [
        "model = get_deeplab_v2()\n"
      ],
      "metadata": {
        "id": "LMZ1PAWfbewj"
      },
      "execution_count": null,
      "outputs": []
    }
  ]
}