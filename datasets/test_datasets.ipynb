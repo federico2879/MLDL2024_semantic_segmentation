{
  "cells": [
    {
      "cell_type": "code",
      "execution_count": 1,
      "id": "initial_id",
      "metadata": {
        "collapsed": true,
        "id": "initial_id",
        "colab": {
          "base_uri": "https://localhost:8080/"
        },
        "outputId": "e4e4b616-cc45-428f-c91c-849f036a6875"
      },
      "outputs": [
        {
          "output_type": "stream",
          "name": "stdout",
          "text": [
            "Cloning into 'MLDL2024_semantic_segmentation'...\n",
            "remote: Enumerating objects: 91, done.\u001b[K\n",
            "remote: Counting objects: 100% (91/91), done.\u001b[K\n",
            "remote: Compressing objects: 100% (82/82), done.\u001b[K\n",
            "remote: Total 91 (delta 42), reused 39 (delta 6), pack-reused 0\u001b[K\n",
            "Receiving objects: 100% (91/91), 21.34 KiB | 7.11 MiB/s, done.\n",
            "Resolving deltas: 100% (42/42), done.\n",
            "Mounted at /content/drive\n",
            "The zip file has been extracted correctly\n"
          ]
        }
      ],
      "source": [
        "from google.colab import drive\n",
        "\n",
        "!git clone https://github.com/federico2879/MLDL2024_semantic_segmentation.git\n",
        "\n",
        "from MLDL2024_semantic_segmentation.datasets.importDataset import Download\n",
        "Download('drive/MyDrive/Cityscapes.zip', '')"
      ]
    },
    {
      "cell_type": "code",
      "source": [
        "from MLDL2024_semantic_segmentation.datasets.importDataset import Modified_CityScapes\n",
        "Modified_CityScapes('Cityscapes/Cityspaces')"
      ],
      "metadata": {
        "id": "geFHYbCOm-6F"
      },
      "id": "geFHYbCOm-6F",
      "execution_count": 2,
      "outputs": []
    },
    {
      "cell_type": "code",
      "source": [
        "import torch\n",
        "from torch.utils.data import DataLoader\n",
        "from MLDL2024_semantic_segmentation.datasets.cityscapes import CityScapes\n",
        "\n",
        "\n",
        "dataset_train = CityScapes('Cityscapes/Cityspaces')\n",
        "dataloader_train = DataLoader(dataset_train, batch_size=64, shuffle=True)"
      ],
      "metadata": {
        "id": "v2OCsPrknv4e"
      },
      "id": "v2OCsPrknv4e",
      "execution_count": 3,
      "outputs": []
    }
  ],
  "metadata": {
    "kernelspec": {
      "display_name": "Python 3",
      "language": "python",
      "name": "python3"
    },
    "language_info": {
      "codemirror_mode": {
        "name": "ipython",
        "version": 2
      },
      "file_extension": ".py",
      "mimetype": "text/x-python",
      "name": "python",
      "nbconvert_exporter": "python",
      "pygments_lexer": "ipython2",
      "version": "2.7.6"
    },
    "colab": {
      "provenance": []
    }
  },
  "nbformat": 4,
  "nbformat_minor": 5
}