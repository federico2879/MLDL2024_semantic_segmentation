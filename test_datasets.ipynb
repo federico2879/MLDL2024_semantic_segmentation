{
  "cells": [
    {
      "cell_type": "markdown",
      "metadata": {
        "id": "view-in-github",
        "colab_type": "text"
      },
      "source": [
        "<a href=\"https://colab.research.google.com/github/federico2879/MLDL2024_semantic_segmentation/blob/master/test_datasets.ipynb\" target=\"_parent\"><img src=\"https://colab.research.google.com/assets/colab-badge.svg\" alt=\"Open In Colab\"/></a>"
      ]
    },
    {
      "cell_type": "code",
      "execution_count": null,
      "id": "initial_id",
      "metadata": {
        "collapsed": true,
        "id": "initial_id",
        "outputId": "d70cf1c1-f565-431e-a875-6fbab21877b9",
        "colab": {
          "base_uri": "https://localhost:8080/"
        }
      },
      "outputs": [
        {
          "output_type": "stream",
          "name": "stdout",
          "text": [
            "Cloning into 'MLDL2024_semantic_segmentation'...\n",
            "remote: Enumerating objects: 58, done.\u001b[K\n",
            "remote: Counting objects: 100% (58/58), done.\u001b[K\n",
            "remote: Compressing objects: 100% (47/47), done.\u001b[K\n",
            "remote: Total 58 (delta 17), reused 43 (delta 8), pack-reused 0\u001b[K\n",
            "Receiving objects: 100% (58/58), 14.71 KiB | 7.36 MiB/s, done.\n",
            "Resolving deltas: 100% (17/17), done.\n"
          ]
        }
      ],
      "source": [
        "from google.colab import drive\n",
        "import zipfile\n",
        "import os\n",
        "\n",
        "!git clone https://github.com/federico2879/MLDL2024_semantic_segmentation.git"
      ]
    },
    {
      "cell_type": "code",
      "source": [
        "import MLDL2024_semantic_segmentation.datasets.importDataset\n"
      ],
      "metadata": {
        "id": "qkDX8DTEgZrc"
      },
      "id": "qkDX8DTEgZrc",
      "execution_count": null,
      "outputs": []
    },
    {
      "cell_type": "code",
      "source": [
        "!pip install MLDL2024_semantic_segmentation.datasets.importDataset"
      ],
      "metadata": {
        "id": "COHftirchhOw",
        "outputId": "5bee0e35-094b-49e8-feca-44ceb6e5eac8",
        "colab": {
          "base_uri": "https://localhost:8080/"
        }
      },
      "id": "COHftirchhOw",
      "execution_count": null,
      "outputs": [
        {
          "output_type": "stream",
          "name": "stdout",
          "text": [
            "\u001b[31mERROR: Could not find a version that satisfies the requirement MLDL2024_semantic_segmentation.datasets.importDataset (from versions: none)\u001b[0m\u001b[31m\n",
            "\u001b[0m\u001b[31mERROR: No matching distribution found for MLDL2024_semantic_segmentation.datasets.importDataset\u001b[0m\u001b[31m\n",
            "\u001b[0m"
          ]
        }
      ]
    }
  ],
  "metadata": {
    "kernelspec": {
      "display_name": "Python 3",
      "language": "python",
      "name": "python3"
    },
    "language_info": {
      "codemirror_mode": {
        "name": "ipython",
        "version": 2
      },
      "file_extension": ".py",
      "mimetype": "text/x-python",
      "name": "python",
      "nbconvert_exporter": "python",
      "pygments_lexer": "ipython2",
      "version": "2.7.6"
    },
    "colab": {
      "provenance": [],
      "include_colab_link": true
    }
  },
  "nbformat": 4,
  "nbformat_minor": 5
}